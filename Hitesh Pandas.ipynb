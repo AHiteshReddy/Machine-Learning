{
 "cells": [
  {
   "cell_type": "code",
   "execution_count": 1,
   "id": "1b9c7d7f",
   "metadata": {},
   "outputs": [],
   "source": [
    "import pandas as pd\n",
    "df=pd.read_csv(\"C:\\\\Users\\\\lab16-23\\\\Desktop\\\\Hitesh\\\\mg.csv\")"
   ]
  },
  {
   "cell_type": "code",
   "execution_count": 3,
   "id": "4900c74a",
   "metadata": {},
   "outputs": [
    {
     "data": {
      "text/plain": [
       "<bound method NDFrame.head of          Price Carpet Area Bedrooms Builder Paid User  \\\n",
       "0     50.5 Lac           N        2     NaN         N   \n",
       "1       70 Lac           N        2     NaN         N   \n",
       "2       40 Lac         NaN        2     NaN         N   \n",
       "3       40 Lac         NaN        2     NaN         N   \n",
       "4      1.20 Cr         NaN        3     NaN         N   \n",
       "...        ...         ...      ...     ...       ...   \n",
       "2411    22 Lac         NaN        1     NaN         N   \n",
       "2412    49 Lac         NaN        2     NaN         N   \n",
       "2413    60 Lac           N        3     NaN         N   \n",
       "2414    80 Lac         NaN        2     NaN         N   \n",
       "2415    78 Lac           N        3     NaN         N   \n",
       "\n",
       "                        Locality      Property Type User Type Prime Location  \\\n",
       "0     Mallampet, Outer Ring Road          Apartment     Owner              Y   \n",
       "1     Pragathi Nagar, Kukatpally          Apartment     Owner              Y   \n",
       "2                            NaN          Apartment     Owner              Y   \n",
       "3                   Bandam Kommu          Apartment     Owner              Y   \n",
       "4      Narsingi, Outer Ring Road          Apartment     Owner              Y   \n",
       "...                          ...                ...       ...            ...   \n",
       "2411                         NaN          Apartment     Owner              Y   \n",
       "2412              Bandari Layout          Apartment     Owner              Y   \n",
       "2413                         NaN          Apartment     Owner              Y   \n",
       "2414                  Tatianaram  Residential House     Owner              Y   \n",
       "2415                         NaN              Villa     Owner              Y   \n",
       "\n",
       "                               Agent  \\\n",
       "0                          suresh kv   \n",
       "1                            sandeep   \n",
       "2                            Shankar   \n",
       "3                           Rajendra   \n",
       "4                       Divya Kurava   \n",
       "...                              ...   \n",
       "2411                           Akhil   \n",
       "2412             nalam surya sandeep   \n",
       "2413                           anjan   \n",
       "2414                     Anand Kumar   \n",
       "2415  Busa. Lakshminarayana Narayana   \n",
       "\n",
       "                                                   Link  \\\n",
       "0     https://www.magicbricks.com/propertyDetails/2-...   \n",
       "1     https://www.magicbricks.com/propertyDetails/2-...   \n",
       "2     https://www.magicbricks.com/propertyDetails/2-...   \n",
       "3     https://www.magicbricks.com/propertyDetails/2-...   \n",
       "4     https://www.magicbricks.com/propertyDetails/3-...   \n",
       "...                                                 ...   \n",
       "2411  https://www.magicbricks.com/propertyDetails/1-...   \n",
       "2412  https://www.magicbricks.com/propertyDetails/2-...   \n",
       "2413  https://www.magicbricks.com/propertyDetails/3-...   \n",
       "2414  https://www.magicbricks.com/propertyDetails/2-...   \n",
       "2415  https://www.magicbricks.com/propertyDetails/3-...   \n",
       "\n",
       "                    Prop ID                                              Other  \n",
       "0     domcache_srp_54918323  ***carpet area*1064 sqft****status**\\t\\t\\t\\t\\t...  \n",
       "1     domcache_srp_54918613  ***carpet area*1155 sqft****status**\\t\\t\\t\\t\\t...  \n",
       "2     domcache_srp_53852017  ***carpet area*1000 sqft****status*Ready to Mo...  \n",
       "3     domcache_srp_39892243  ***carpet area*1000 sqft****status*Ready to Mo...  \n",
       "4     domcache_srp_54914619  ***super area*1800 sqft****status*Ready to Mov...  \n",
       "...                     ...                                                ...  \n",
       "2411  domcache_srp_52710987  ***carpet area*400 sqft****status*Ready to Mov...  \n",
       "2412  domcache_srp_55111489  ***carpet area*1100 sqft****status*Ready to Mo...  \n",
       "2413  domcache_srp_37030377  ***super area*1059 sqft*****floor*2 out of 6 f...  \n",
       "2414  domcache_srp_51378722  ***super area*155 sqyrd****status*Ready to Mov...  \n",
       "2415  domcache_srp_50673536  ***carpet area*2008 sqft****status**\\t\\t\\t\\t\\t...  \n",
       "\n",
       "[2416 rows x 13 columns]>"
      ]
     },
     "execution_count": 3,
     "metadata": {},
     "output_type": "execute_result"
    }
   ],
   "source": [
    "df.head"
   ]
  },
  {
   "cell_type": "code",
   "execution_count": 5,
   "id": "e7876318",
   "metadata": {},
   "outputs": [
    {
     "data": {
      "text/plain": [
       "<bound method NDFrame.tail of          Price Carpet Area Bedrooms Builder Paid User  \\\n",
       "0     50.5 Lac           N        2     NaN         N   \n",
       "1       70 Lac           N        2     NaN         N   \n",
       "2       40 Lac         NaN        2     NaN         N   \n",
       "3       40 Lac         NaN        2     NaN         N   \n",
       "4      1.20 Cr         NaN        3     NaN         N   \n",
       "...        ...         ...      ...     ...       ...   \n",
       "2411    22 Lac         NaN        1     NaN         N   \n",
       "2412    49 Lac         NaN        2     NaN         N   \n",
       "2413    60 Lac           N        3     NaN         N   \n",
       "2414    80 Lac         NaN        2     NaN         N   \n",
       "2415    78 Lac           N        3     NaN         N   \n",
       "\n",
       "                        Locality      Property Type User Type Prime Location  \\\n",
       "0     Mallampet, Outer Ring Road          Apartment     Owner              Y   \n",
       "1     Pragathi Nagar, Kukatpally          Apartment     Owner              Y   \n",
       "2                            NaN          Apartment     Owner              Y   \n",
       "3                   Bandam Kommu          Apartment     Owner              Y   \n",
       "4      Narsingi, Outer Ring Road          Apartment     Owner              Y   \n",
       "...                          ...                ...       ...            ...   \n",
       "2411                         NaN          Apartment     Owner              Y   \n",
       "2412              Bandari Layout          Apartment     Owner              Y   \n",
       "2413                         NaN          Apartment     Owner              Y   \n",
       "2414                  Tatianaram  Residential House     Owner              Y   \n",
       "2415                         NaN              Villa     Owner              Y   \n",
       "\n",
       "                               Agent  \\\n",
       "0                          suresh kv   \n",
       "1                            sandeep   \n",
       "2                            Shankar   \n",
       "3                           Rajendra   \n",
       "4                       Divya Kurava   \n",
       "...                              ...   \n",
       "2411                           Akhil   \n",
       "2412             nalam surya sandeep   \n",
       "2413                           anjan   \n",
       "2414                     Anand Kumar   \n",
       "2415  Busa. Lakshminarayana Narayana   \n",
       "\n",
       "                                                   Link  \\\n",
       "0     https://www.magicbricks.com/propertyDetails/2-...   \n",
       "1     https://www.magicbricks.com/propertyDetails/2-...   \n",
       "2     https://www.magicbricks.com/propertyDetails/2-...   \n",
       "3     https://www.magicbricks.com/propertyDetails/2-...   \n",
       "4     https://www.magicbricks.com/propertyDetails/3-...   \n",
       "...                                                 ...   \n",
       "2411  https://www.magicbricks.com/propertyDetails/1-...   \n",
       "2412  https://www.magicbricks.com/propertyDetails/2-...   \n",
       "2413  https://www.magicbricks.com/propertyDetails/3-...   \n",
       "2414  https://www.magicbricks.com/propertyDetails/2-...   \n",
       "2415  https://www.magicbricks.com/propertyDetails/3-...   \n",
       "\n",
       "                    Prop ID                                              Other  \n",
       "0     domcache_srp_54918323  ***carpet area*1064 sqft****status**\\t\\t\\t\\t\\t...  \n",
       "1     domcache_srp_54918613  ***carpet area*1155 sqft****status**\\t\\t\\t\\t\\t...  \n",
       "2     domcache_srp_53852017  ***carpet area*1000 sqft****status*Ready to Mo...  \n",
       "3     domcache_srp_39892243  ***carpet area*1000 sqft****status*Ready to Mo...  \n",
       "4     domcache_srp_54914619  ***super area*1800 sqft****status*Ready to Mov...  \n",
       "...                     ...                                                ...  \n",
       "2411  domcache_srp_52710987  ***carpet area*400 sqft****status*Ready to Mov...  \n",
       "2412  domcache_srp_55111489  ***carpet area*1100 sqft****status*Ready to Mo...  \n",
       "2413  domcache_srp_37030377  ***super area*1059 sqft*****floor*2 out of 6 f...  \n",
       "2414  domcache_srp_51378722  ***super area*155 sqyrd****status*Ready to Mov...  \n",
       "2415  domcache_srp_50673536  ***carpet area*2008 sqft****status**\\t\\t\\t\\t\\t...  \n",
       "\n",
       "[2416 rows x 13 columns]>"
      ]
     },
     "execution_count": 5,
     "metadata": {},
     "output_type": "execute_result"
    }
   ],
   "source": [
    "df.tail"
   ]
  },
  {
   "cell_type": "code",
   "execution_count": 7,
   "id": "30e3c7ce",
   "metadata": {},
   "outputs": [
    {
     "data": {
      "text/plain": [
       "(2416, 13)"
      ]
     },
     "execution_count": 7,
     "metadata": {},
     "output_type": "execute_result"
    }
   ],
   "source": [
    "df.shape"
   ]
  },
  {
   "cell_type": "code",
   "execution_count": 8,
   "id": "4b564453",
   "metadata": {},
   "outputs": [
    {
     "data": {
      "text/plain": [
       "Index(['Price', 'Carpet Area', 'Bedrooms', 'Builder', 'Paid User', 'Locality',\n",
       "       'Property Type', 'User Type', 'Prime Location', 'Agent', 'Link',\n",
       "       'Prop ID', 'Other'],\n",
       "      dtype='object')"
      ]
     },
     "execution_count": 8,
     "metadata": {},
     "output_type": "execute_result"
    }
   ],
   "source": [
    "df.columns"
   ]
  },
  {
   "cell_type": "code",
   "execution_count": 9,
   "id": "631b8958",
   "metadata": {},
   "outputs": [
    {
     "data": {
      "text/plain": [
       "<bound method NDFrame.sample of          Price Carpet Area Bedrooms Builder Paid User  \\\n",
       "0     50.5 Lac           N        2     NaN         N   \n",
       "1       70 Lac           N        2     NaN         N   \n",
       "2       40 Lac         NaN        2     NaN         N   \n",
       "3       40 Lac         NaN        2     NaN         N   \n",
       "4      1.20 Cr         NaN        3     NaN         N   \n",
       "...        ...         ...      ...     ...       ...   \n",
       "2411    22 Lac         NaN        1     NaN         N   \n",
       "2412    49 Lac         NaN        2     NaN         N   \n",
       "2413    60 Lac           N        3     NaN         N   \n",
       "2414    80 Lac         NaN        2     NaN         N   \n",
       "2415    78 Lac           N        3     NaN         N   \n",
       "\n",
       "                        Locality      Property Type User Type Prime Location  \\\n",
       "0     Mallampet, Outer Ring Road          Apartment     Owner              Y   \n",
       "1     Pragathi Nagar, Kukatpally          Apartment     Owner              Y   \n",
       "2                            NaN          Apartment     Owner              Y   \n",
       "3                   Bandam Kommu          Apartment     Owner              Y   \n",
       "4      Narsingi, Outer Ring Road          Apartment     Owner              Y   \n",
       "...                          ...                ...       ...            ...   \n",
       "2411                         NaN          Apartment     Owner              Y   \n",
       "2412              Bandari Layout          Apartment     Owner              Y   \n",
       "2413                         NaN          Apartment     Owner              Y   \n",
       "2414                  Tatianaram  Residential House     Owner              Y   \n",
       "2415                         NaN              Villa     Owner              Y   \n",
       "\n",
       "                               Agent  \\\n",
       "0                          suresh kv   \n",
       "1                            sandeep   \n",
       "2                            Shankar   \n",
       "3                           Rajendra   \n",
       "4                       Divya Kurava   \n",
       "...                              ...   \n",
       "2411                           Akhil   \n",
       "2412             nalam surya sandeep   \n",
       "2413                           anjan   \n",
       "2414                     Anand Kumar   \n",
       "2415  Busa. Lakshminarayana Narayana   \n",
       "\n",
       "                                                   Link  \\\n",
       "0     https://www.magicbricks.com/propertyDetails/2-...   \n",
       "1     https://www.magicbricks.com/propertyDetails/2-...   \n",
       "2     https://www.magicbricks.com/propertyDetails/2-...   \n",
       "3     https://www.magicbricks.com/propertyDetails/2-...   \n",
       "4     https://www.magicbricks.com/propertyDetails/3-...   \n",
       "...                                                 ...   \n",
       "2411  https://www.magicbricks.com/propertyDetails/1-...   \n",
       "2412  https://www.magicbricks.com/propertyDetails/2-...   \n",
       "2413  https://www.magicbricks.com/propertyDetails/3-...   \n",
       "2414  https://www.magicbricks.com/propertyDetails/2-...   \n",
       "2415  https://www.magicbricks.com/propertyDetails/3-...   \n",
       "\n",
       "                    Prop ID                                              Other  \n",
       "0     domcache_srp_54918323  ***carpet area*1064 sqft****status**\\t\\t\\t\\t\\t...  \n",
       "1     domcache_srp_54918613  ***carpet area*1155 sqft****status**\\t\\t\\t\\t\\t...  \n",
       "2     domcache_srp_53852017  ***carpet area*1000 sqft****status*Ready to Mo...  \n",
       "3     domcache_srp_39892243  ***carpet area*1000 sqft****status*Ready to Mo...  \n",
       "4     domcache_srp_54914619  ***super area*1800 sqft****status*Ready to Mov...  \n",
       "...                     ...                                                ...  \n",
       "2411  domcache_srp_52710987  ***carpet area*400 sqft****status*Ready to Mov...  \n",
       "2412  domcache_srp_55111489  ***carpet area*1100 sqft****status*Ready to Mo...  \n",
       "2413  domcache_srp_37030377  ***super area*1059 sqft*****floor*2 out of 6 f...  \n",
       "2414  domcache_srp_51378722  ***super area*155 sqyrd****status*Ready to Mov...  \n",
       "2415  domcache_srp_50673536  ***carpet area*2008 sqft****status**\\t\\t\\t\\t\\t...  \n",
       "\n",
       "[2416 rows x 13 columns]>"
      ]
     },
     "execution_count": 9,
     "metadata": {},
     "output_type": "execute_result"
    }
   ],
   "source": [
    "df.sample"
   ]
  },
  {
   "cell_type": "code",
   "execution_count": 10,
   "id": "2eb2de9d",
   "metadata": {},
   "outputs": [
    {
     "data": {
      "text/plain": [
       "Price             object\n",
       "Carpet Area       object\n",
       "Bedrooms          object\n",
       "Builder           object\n",
       "Paid User         object\n",
       "Locality          object\n",
       "Property Type     object\n",
       "User Type         object\n",
       "Prime Location    object\n",
       "Agent             object\n",
       "Link              object\n",
       "Prop ID           object\n",
       "Other             object\n",
       "dtype: object"
      ]
     },
     "execution_count": 10,
     "metadata": {},
     "output_type": "execute_result"
    }
   ],
   "source": [
    "df.dtypes"
   ]
  },
  {
   "cell_type": "code",
   "execution_count": 11,
   "id": "cef3db27",
   "metadata": {},
   "outputs": [
    {
     "data": {
      "text/plain": [
       "11"
      ]
     },
     "execution_count": 11,
     "metadata": {},
     "output_type": "execute_result"
    }
   ],
   "source": [
    "df['Bedrooms'].nunique()"
   ]
  },
  {
   "cell_type": "code",
   "execution_count": 12,
   "id": "770945fc",
   "metadata": {},
   "outputs": [
    {
     "data": {
      "text/plain": [
       "array(['2', '3', '4', '1', '5', nan, '6', '8', '> 10', '10', '7', '9'],\n",
       "      dtype=object)"
      ]
     },
     "execution_count": 12,
     "metadata": {},
     "output_type": "execute_result"
    }
   ],
   "source": [
    "df['Bedrooms'].unique()"
   ]
  },
  {
   "cell_type": "code",
   "execution_count": 13,
   "id": "f32d1125",
   "metadata": {},
   "outputs": [
    {
     "data": {
      "text/plain": [
       "2       1405\n",
       "3        704\n",
       "4        127\n",
       "1        108\n",
       "6         25\n",
       "5         20\n",
       "8          7\n",
       "7          5\n",
       "> 10       3\n",
       "10         3\n",
       "9          3\n",
       "Name: Bedrooms, dtype: int64"
      ]
     },
     "execution_count": 13,
     "metadata": {},
     "output_type": "execute_result"
    }
   ],
   "source": [
    "df['Bedrooms'].value_counts()"
   ]
  },
  {
   "cell_type": "code",
   "execution_count": 14,
   "id": "3f160512",
   "metadata": {},
   "outputs": [
    {
     "data": {
      "text/plain": [
       "0       False\n",
       "1       False\n",
       "2       False\n",
       "3       False\n",
       "4       False\n",
       "        ...  \n",
       "2411    False\n",
       "2412    False\n",
       "2413    False\n",
       "2414    False\n",
       "2415    False\n",
       "Name: Bedrooms, Length: 2416, dtype: bool"
      ]
     },
     "execution_count": 14,
     "metadata": {},
     "output_type": "execute_result"
    }
   ],
   "source": [
    "df['Bedrooms'].isna()"
   ]
  },
  {
   "cell_type": "code",
   "execution_count": 15,
   "id": "67184b6a",
   "metadata": {},
   "outputs": [
    {
     "data": {
      "text/plain": [
       "6"
      ]
     },
     "execution_count": 15,
     "metadata": {},
     "output_type": "execute_result"
    }
   ],
   "source": [
    "df['Bedrooms'].isna().sum()"
   ]
  },
  {
   "cell_type": "code",
   "execution_count": 16,
   "id": "57a9a10d",
   "metadata": {},
   "outputs": [],
   "source": [
    "df['price'] = df['Price'].str.split(' ').apply(lambda x: float(x[0]) * 100 if x[1] == 'Cr' else float(x[0]))"
   ]
  },
  {
   "cell_type": "code",
   "execution_count": 17,
   "id": "1c0e681a",
   "metadata": {},
   "outputs": [],
   "source": [
    "df['areasize'] = df['Other'].str.extract(r'\\*(\\d+)\\s+')"
   ]
  },
  {
   "cell_type": "code",
   "execution_count": 18,
   "id": "b82650c2",
   "metadata": {},
   "outputs": [],
   "source": [
    "df['areatype'] = df['Other'].str.extract(r'(carpet area|super area)')"
   ]
  },
  {
   "cell_type": "code",
   "execution_count": 19,
   "id": "6d1cd3a8",
   "metadata": {},
   "outputs": [],
   "source": [
    "df['areaunit'] = df['Other'].str.extract(r'(sqft|sqyrd)')"
   ]
  },
  {
   "cell_type": "code",
   "execution_count": 20,
   "id": "9f1f9c2a",
   "metadata": {},
   "outputs": [],
   "source": [
    "df['areasize'] = pd.to_numeric(df['areasize'])"
   ]
  },
  {
   "cell_type": "code",
   "execution_count": 21,
   "id": "37df83da",
   "metadata": {},
   "outputs": [],
   "source": [
    "df['areasize'] = df.apply(lambda row: row['areasize']* (9 if row['areaunit'] == 'sqyrd' else 1), axis=1)"
   ]
  },
  {
   "cell_type": "code",
   "execution_count": 22,
   "id": "0342edd7",
   "metadata": {},
   "outputs": [],
   "source": [
    "df['area'] = df['Locality'].str.split(',').str[0]"
   ]
  },
  {
   "cell_type": "code",
   "execution_count": 23,
   "id": "2d69fceb",
   "metadata": {},
   "outputs": [],
   "source": [
    "df = df[['area', 'areasize', 'areatype', 'Bedrooms', 'price']]"
   ]
  },
  {
   "cell_type": "code",
   "execution_count": 24,
   "id": "1702f1c7",
   "metadata": {},
   "outputs": [],
   "source": [
    "df.to_csv('workdata.csv', index = False)"
   ]
  },
  {
   "cell_type": "code",
   "execution_count": 25,
   "id": "3ee176cf",
   "metadata": {},
   "outputs": [
    {
     "data": {
      "text/html": [
       "<div>\n",
       "<style scoped>\n",
       "    .dataframe tbody tr th:only-of-type {\n",
       "        vertical-align: middle;\n",
       "    }\n",
       "\n",
       "    .dataframe tbody tr th {\n",
       "        vertical-align: top;\n",
       "    }\n",
       "\n",
       "    .dataframe thead th {\n",
       "        text-align: right;\n",
       "    }\n",
       "</style>\n",
       "<table border=\"1\" class=\"dataframe\">\n",
       "  <thead>\n",
       "    <tr style=\"text-align: right;\">\n",
       "      <th></th>\n",
       "      <th>area</th>\n",
       "      <th>areasize</th>\n",
       "      <th>areatype</th>\n",
       "      <th>Bedrooms</th>\n",
       "      <th>price</th>\n",
       "    </tr>\n",
       "  </thead>\n",
       "  <tbody>\n",
       "    <tr>\n",
       "      <th>306</th>\n",
       "      <td>Vanasthalipuram</td>\n",
       "      <td>1170.0</td>\n",
       "      <td>carpet area</td>\n",
       "      <td>2</td>\n",
       "      <td>83.0</td>\n",
       "    </tr>\n",
       "    <tr>\n",
       "      <th>370</th>\n",
       "      <td>Thumkunta</td>\n",
       "      <td>2242.0</td>\n",
       "      <td>carpet area</td>\n",
       "      <td>6</td>\n",
       "      <td>97.0</td>\n",
       "    </tr>\n",
       "    <tr>\n",
       "      <th>454</th>\n",
       "      <td>Kollur</td>\n",
       "      <td>1250.0</td>\n",
       "      <td>carpet area</td>\n",
       "      <td>2</td>\n",
       "      <td>50.0</td>\n",
       "    </tr>\n",
       "    <tr>\n",
       "      <th>749</th>\n",
       "      <td>Boduppal</td>\n",
       "      <td>1000.0</td>\n",
       "      <td>carpet area</td>\n",
       "      <td>2</td>\n",
       "      <td>75.0</td>\n",
       "    </tr>\n",
       "    <tr>\n",
       "      <th>851</th>\n",
       "      <td>Mayuri Nagar</td>\n",
       "      <td>1075.0</td>\n",
       "      <td>super area</td>\n",
       "      <td>2</td>\n",
       "      <td>61.0</td>\n",
       "    </tr>\n",
       "    <tr>\n",
       "      <th>1121</th>\n",
       "      <td>Jagadgiri Gutta</td>\n",
       "      <td>1200.0</td>\n",
       "      <td>super area</td>\n",
       "      <td>3</td>\n",
       "      <td>52.0</td>\n",
       "    </tr>\n",
       "    <tr>\n",
       "      <th>1238</th>\n",
       "      <td>Tukkuguda</td>\n",
       "      <td>1000.0</td>\n",
       "      <td>super area</td>\n",
       "      <td>2</td>\n",
       "      <td>75.0</td>\n",
       "    </tr>\n",
       "    <tr>\n",
       "      <th>1291</th>\n",
       "      <td>Kokapet</td>\n",
       "      <td>1555.0</td>\n",
       "      <td>super area</td>\n",
       "      <td>3</td>\n",
       "      <td>101.0</td>\n",
       "    </tr>\n",
       "    <tr>\n",
       "      <th>1521</th>\n",
       "      <td>Beeramguda</td>\n",
       "      <td>1050.0</td>\n",
       "      <td>super area</td>\n",
       "      <td>2</td>\n",
       "      <td>35.0</td>\n",
       "    </tr>\n",
       "    <tr>\n",
       "      <th>1649</th>\n",
       "      <td>Bachupally</td>\n",
       "      <td>1535.0</td>\n",
       "      <td>super area</td>\n",
       "      <td>2</td>\n",
       "      <td>76.8</td>\n",
       "    </tr>\n",
       "    <tr>\n",
       "      <th>2045</th>\n",
       "      <td>Puppalaguda</td>\n",
       "      <td>1583.0</td>\n",
       "      <td>carpet area</td>\n",
       "      <td>3</td>\n",
       "      <td>127.0</td>\n",
       "    </tr>\n",
       "    <tr>\n",
       "      <th>2126</th>\n",
       "      <td>Manikonda</td>\n",
       "      <td>1150.0</td>\n",
       "      <td>super area</td>\n",
       "      <td>2</td>\n",
       "      <td>65.0</td>\n",
       "    </tr>\n",
       "    <tr>\n",
       "      <th>2158</th>\n",
       "      <td>Rampally</td>\n",
       "      <td>1100.0</td>\n",
       "      <td>carpet area</td>\n",
       "      <td>2</td>\n",
       "      <td>65.0</td>\n",
       "    </tr>\n",
       "    <tr>\n",
       "      <th>2272</th>\n",
       "      <td>Bachupally</td>\n",
       "      <td>1000.0</td>\n",
       "      <td>carpet area</td>\n",
       "      <td>2</td>\n",
       "      <td>45.0</td>\n",
       "    </tr>\n",
       "    <tr>\n",
       "      <th>2362</th>\n",
       "      <td>NaN</td>\n",
       "      <td>100.0</td>\n",
       "      <td>carpet area</td>\n",
       "      <td>2</td>\n",
       "      <td>50.0</td>\n",
       "    </tr>\n",
       "  </tbody>\n",
       "</table>\n",
       "</div>"
      ],
      "text/plain": [
       "                 area  areasize     areatype Bedrooms  price\n",
       "306   Vanasthalipuram    1170.0  carpet area        2   83.0\n",
       "370         Thumkunta    2242.0  carpet area        6   97.0\n",
       "454            Kollur    1250.0  carpet area        2   50.0\n",
       "749          Boduppal    1000.0  carpet area        2   75.0\n",
       "851      Mayuri Nagar    1075.0   super area        2   61.0\n",
       "1121  Jagadgiri Gutta    1200.0   super area        3   52.0\n",
       "1238        Tukkuguda    1000.0   super area        2   75.0\n",
       "1291          Kokapet    1555.0   super area        3  101.0\n",
       "1521       Beeramguda    1050.0   super area        2   35.0\n",
       "1649       Bachupally    1535.0   super area        2   76.8\n",
       "2045      Puppalaguda    1583.0  carpet area        3  127.0\n",
       "2126        Manikonda    1150.0   super area        2   65.0\n",
       "2158         Rampally    1100.0  carpet area        2   65.0\n",
       "2272       Bachupally    1000.0  carpet area        2   45.0\n",
       "2362              NaN     100.0  carpet area        2   50.0"
      ]
     },
     "execution_count": 25,
     "metadata": {},
     "output_type": "execute_result"
    }
   ],
   "source": [
    "df[df.duplicated()]"
   ]
  },
  {
   "cell_type": "code",
   "execution_count": 26,
   "id": "5a1a8e39",
   "metadata": {},
   "outputs": [
    {
     "data": {
      "text/plain": [
       "15"
      ]
     },
     "execution_count": 26,
     "metadata": {},
     "output_type": "execute_result"
    }
   ],
   "source": [
    "df.duplicated().sum()"
   ]
  },
  {
   "cell_type": "code",
   "execution_count": 32,
   "id": "9e69c74d",
   "metadata": {},
   "outputs": [
    {
     "data": {
      "text/html": [
       "<div>\n",
       "<style scoped>\n",
       "    .dataframe tbody tr th:only-of-type {\n",
       "        vertical-align: middle;\n",
       "    }\n",
       "\n",
       "    .dataframe tbody tr th {\n",
       "        vertical-align: top;\n",
       "    }\n",
       "\n",
       "    .dataframe thead th {\n",
       "        text-align: right;\n",
       "    }\n",
       "</style>\n",
       "<table border=\"1\" class=\"dataframe\">\n",
       "  <thead>\n",
       "    <tr style=\"text-align: right;\">\n",
       "      <th></th>\n",
       "      <th>area</th>\n",
       "      <th>areasize</th>\n",
       "      <th>areatype</th>\n",
       "      <th>Bedrooms</th>\n",
       "      <th>price</th>\n",
       "    </tr>\n",
       "  </thead>\n",
       "  <tbody>\n",
       "    <tr>\n",
       "      <th>0</th>\n",
       "      <td>Mallampet</td>\n",
       "      <td>1064.0</td>\n",
       "      <td>carpet area</td>\n",
       "      <td>2</td>\n",
       "      <td>50.5</td>\n",
       "    </tr>\n",
       "    <tr>\n",
       "      <th>1</th>\n",
       "      <td>Pragathi Nagar</td>\n",
       "      <td>1155.0</td>\n",
       "      <td>carpet area</td>\n",
       "      <td>2</td>\n",
       "      <td>70.0</td>\n",
       "    </tr>\n",
       "    <tr>\n",
       "      <th>2</th>\n",
       "      <td>NaN</td>\n",
       "      <td>1000.0</td>\n",
       "      <td>carpet area</td>\n",
       "      <td>2</td>\n",
       "      <td>40.0</td>\n",
       "    </tr>\n",
       "    <tr>\n",
       "      <th>3</th>\n",
       "      <td>Bandam Kommu</td>\n",
       "      <td>1000.0</td>\n",
       "      <td>carpet area</td>\n",
       "      <td>2</td>\n",
       "      <td>40.0</td>\n",
       "    </tr>\n",
       "    <tr>\n",
       "      <th>4</th>\n",
       "      <td>Narsingi</td>\n",
       "      <td>1800.0</td>\n",
       "      <td>super area</td>\n",
       "      <td>3</td>\n",
       "      <td>120.0</td>\n",
       "    </tr>\n",
       "    <tr>\n",
       "      <th>...</th>\n",
       "      <td>...</td>\n",
       "      <td>...</td>\n",
       "      <td>...</td>\n",
       "      <td>...</td>\n",
       "      <td>...</td>\n",
       "    </tr>\n",
       "    <tr>\n",
       "      <th>2411</th>\n",
       "      <td>NaN</td>\n",
       "      <td>400.0</td>\n",
       "      <td>carpet area</td>\n",
       "      <td>1</td>\n",
       "      <td>22.0</td>\n",
       "    </tr>\n",
       "    <tr>\n",
       "      <th>2412</th>\n",
       "      <td>Bandari Layout</td>\n",
       "      <td>1100.0</td>\n",
       "      <td>carpet area</td>\n",
       "      <td>2</td>\n",
       "      <td>49.0</td>\n",
       "    </tr>\n",
       "    <tr>\n",
       "      <th>2413</th>\n",
       "      <td>NaN</td>\n",
       "      <td>1059.0</td>\n",
       "      <td>super area</td>\n",
       "      <td>3</td>\n",
       "      <td>60.0</td>\n",
       "    </tr>\n",
       "    <tr>\n",
       "      <th>2414</th>\n",
       "      <td>Tatianaram</td>\n",
       "      <td>1395.0</td>\n",
       "      <td>super area</td>\n",
       "      <td>2</td>\n",
       "      <td>80.0</td>\n",
       "    </tr>\n",
       "    <tr>\n",
       "      <th>2415</th>\n",
       "      <td>NaN</td>\n",
       "      <td>2008.0</td>\n",
       "      <td>carpet area</td>\n",
       "      <td>3</td>\n",
       "      <td>78.0</td>\n",
       "    </tr>\n",
       "  </tbody>\n",
       "</table>\n",
       "<p>2401 rows × 5 columns</p>\n",
       "</div>"
      ],
      "text/plain": [
       "                area  areasize     areatype Bedrooms  price\n",
       "0          Mallampet    1064.0  carpet area        2   50.5\n",
       "1     Pragathi Nagar    1155.0  carpet area        2   70.0\n",
       "2                NaN    1000.0  carpet area        2   40.0\n",
       "3       Bandam Kommu    1000.0  carpet area        2   40.0\n",
       "4           Narsingi    1800.0   super area        3  120.0\n",
       "...              ...       ...          ...      ...    ...\n",
       "2411             NaN     400.0  carpet area        1   22.0\n",
       "2412  Bandari Layout    1100.0  carpet area        2   49.0\n",
       "2413             NaN    1059.0   super area        3   60.0\n",
       "2414      Tatianaram    1395.0   super area        2   80.0\n",
       "2415             NaN    2008.0  carpet area        3   78.0\n",
       "\n",
       "[2401 rows x 5 columns]"
      ]
     },
     "execution_count": 32,
     "metadata": {},
     "output_type": "execute_result"
    }
   ],
   "source": [
    "df.drop_duplicates(inplace=False)"
   ]
  },
  {
   "cell_type": "code",
   "execution_count": 34,
   "id": "4197f433",
   "metadata": {},
   "outputs": [
    {
     "data": {
      "text/html": [
       "<div>\n",
       "<style scoped>\n",
       "    .dataframe tbody tr th:only-of-type {\n",
       "        vertical-align: middle;\n",
       "    }\n",
       "\n",
       "    .dataframe tbody tr th {\n",
       "        vertical-align: top;\n",
       "    }\n",
       "\n",
       "    .dataframe thead th {\n",
       "        text-align: right;\n",
       "    }\n",
       "</style>\n",
       "<table border=\"1\" class=\"dataframe\">\n",
       "  <thead>\n",
       "    <tr style=\"text-align: right;\">\n",
       "      <th></th>\n",
       "      <th>area</th>\n",
       "      <th>areasize</th>\n",
       "      <th>areatype</th>\n",
       "      <th>Bedrooms</th>\n",
       "      <th>price</th>\n",
       "    </tr>\n",
       "  </thead>\n",
       "  <tbody>\n",
       "    <tr>\n",
       "      <th>0</th>\n",
       "      <td>Mallampet</td>\n",
       "      <td>1064.0</td>\n",
       "      <td>carpet area</td>\n",
       "      <td>2</td>\n",
       "      <td>50.5</td>\n",
       "    </tr>\n",
       "    <tr>\n",
       "      <th>1</th>\n",
       "      <td>Pragathi Nagar</td>\n",
       "      <td>1155.0</td>\n",
       "      <td>carpet area</td>\n",
       "      <td>2</td>\n",
       "      <td>70.0</td>\n",
       "    </tr>\n",
       "    <tr>\n",
       "      <th>3</th>\n",
       "      <td>Bandam Kommu</td>\n",
       "      <td>1000.0</td>\n",
       "      <td>carpet area</td>\n",
       "      <td>2</td>\n",
       "      <td>40.0</td>\n",
       "    </tr>\n",
       "    <tr>\n",
       "      <th>4</th>\n",
       "      <td>Narsingi</td>\n",
       "      <td>1800.0</td>\n",
       "      <td>super area</td>\n",
       "      <td>3</td>\n",
       "      <td>120.0</td>\n",
       "    </tr>\n",
       "    <tr>\n",
       "      <th>5</th>\n",
       "      <td>Chintal</td>\n",
       "      <td>1150.0</td>\n",
       "      <td>carpet area</td>\n",
       "      <td>2</td>\n",
       "      <td>40.0</td>\n",
       "    </tr>\n",
       "    <tr>\n",
       "      <th>...</th>\n",
       "      <td>...</td>\n",
       "      <td>...</td>\n",
       "      <td>...</td>\n",
       "      <td>...</td>\n",
       "      <td>...</td>\n",
       "    </tr>\n",
       "    <tr>\n",
       "      <th>2407</th>\n",
       "      <td>Begum Bazar</td>\n",
       "      <td>80.0</td>\n",
       "      <td>super area</td>\n",
       "      <td>5</td>\n",
       "      <td>9.9</td>\n",
       "    </tr>\n",
       "    <tr>\n",
       "      <th>2408</th>\n",
       "      <td>Dammaiguda</td>\n",
       "      <td>999.0</td>\n",
       "      <td>super area</td>\n",
       "      <td>2</td>\n",
       "      <td>55.0</td>\n",
       "    </tr>\n",
       "    <tr>\n",
       "      <th>2409</th>\n",
       "      <td>Kondapur</td>\n",
       "      <td>1623.0</td>\n",
       "      <td>super area</td>\n",
       "      <td>3</td>\n",
       "      <td>135.0</td>\n",
       "    </tr>\n",
       "    <tr>\n",
       "      <th>2412</th>\n",
       "      <td>Bandari Layout</td>\n",
       "      <td>1100.0</td>\n",
       "      <td>carpet area</td>\n",
       "      <td>2</td>\n",
       "      <td>49.0</td>\n",
       "    </tr>\n",
       "    <tr>\n",
       "      <th>2414</th>\n",
       "      <td>Tatianaram</td>\n",
       "      <td>1395.0</td>\n",
       "      <td>super area</td>\n",
       "      <td>2</td>\n",
       "      <td>80.0</td>\n",
       "    </tr>\n",
       "  </tbody>\n",
       "</table>\n",
       "<p>2119 rows × 5 columns</p>\n",
       "</div>"
      ],
      "text/plain": [
       "                area  areasize     areatype Bedrooms  price\n",
       "0          Mallampet    1064.0  carpet area        2   50.5\n",
       "1     Pragathi Nagar    1155.0  carpet area        2   70.0\n",
       "3       Bandam Kommu    1000.0  carpet area        2   40.0\n",
       "4           Narsingi    1800.0   super area        3  120.0\n",
       "5            Chintal    1150.0  carpet area        2   40.0\n",
       "...              ...       ...          ...      ...    ...\n",
       "2407     Begum Bazar      80.0   super area        5    9.9\n",
       "2408      Dammaiguda     999.0   super area        2   55.0\n",
       "2409        Kondapur    1623.0   super area        3  135.0\n",
       "2412  Bandari Layout    1100.0  carpet area        2   49.0\n",
       "2414      Tatianaram    1395.0   super area        2   80.0\n",
       "\n",
       "[2119 rows x 5 columns]"
      ]
     },
     "execution_count": 34,
     "metadata": {},
     "output_type": "execute_result"
    }
   ],
   "source": [
    "df.dropna( inplace = False)"
   ]
  },
  {
   "cell_type": "code",
   "execution_count": 36,
   "id": "68473436",
   "metadata": {},
   "outputs": [
    {
     "data": {
      "text/html": [
       "<div>\n",
       "<style scoped>\n",
       "    .dataframe tbody tr th:only-of-type {\n",
       "        vertical-align: middle;\n",
       "    }\n",
       "\n",
       "    .dataframe tbody tr th {\n",
       "        vertical-align: top;\n",
       "    }\n",
       "\n",
       "    .dataframe thead th {\n",
       "        text-align: right;\n",
       "    }\n",
       "</style>\n",
       "<table border=\"1\" class=\"dataframe\">\n",
       "  <thead>\n",
       "    <tr style=\"text-align: right;\">\n",
       "      <th></th>\n",
       "      <th>area</th>\n",
       "      <th>areasize</th>\n",
       "      <th>areatype</th>\n",
       "      <th>Bedrooms</th>\n",
       "      <th>price</th>\n",
       "    </tr>\n",
       "  </thead>\n",
       "  <tbody>\n",
       "    <tr>\n",
       "      <th>0</th>\n",
       "      <td>Mallampet</td>\n",
       "      <td>1064.0</td>\n",
       "      <td>carpet area</td>\n",
       "      <td>2</td>\n",
       "      <td>50.5</td>\n",
       "    </tr>\n",
       "    <tr>\n",
       "      <th>1</th>\n",
       "      <td>Pragathi Nagar</td>\n",
       "      <td>1155.0</td>\n",
       "      <td>carpet area</td>\n",
       "      <td>2</td>\n",
       "      <td>70.0</td>\n",
       "    </tr>\n",
       "    <tr>\n",
       "      <th>3</th>\n",
       "      <td>Bandam Kommu</td>\n",
       "      <td>1000.0</td>\n",
       "      <td>carpet area</td>\n",
       "      <td>2</td>\n",
       "      <td>40.0</td>\n",
       "    </tr>\n",
       "    <tr>\n",
       "      <th>4</th>\n",
       "      <td>Narsingi</td>\n",
       "      <td>1800.0</td>\n",
       "      <td>super area</td>\n",
       "      <td>3</td>\n",
       "      <td>120.0</td>\n",
       "    </tr>\n",
       "    <tr>\n",
       "      <th>5</th>\n",
       "      <td>Chintal</td>\n",
       "      <td>1150.0</td>\n",
       "      <td>carpet area</td>\n",
       "      <td>2</td>\n",
       "      <td>40.0</td>\n",
       "    </tr>\n",
       "    <tr>\n",
       "      <th>...</th>\n",
       "      <td>...</td>\n",
       "      <td>...</td>\n",
       "      <td>...</td>\n",
       "      <td>...</td>\n",
       "      <td>...</td>\n",
       "    </tr>\n",
       "    <tr>\n",
       "      <th>2407</th>\n",
       "      <td>Begum Bazar</td>\n",
       "      <td>80.0</td>\n",
       "      <td>super area</td>\n",
       "      <td>5</td>\n",
       "      <td>9.9</td>\n",
       "    </tr>\n",
       "    <tr>\n",
       "      <th>2408</th>\n",
       "      <td>Dammaiguda</td>\n",
       "      <td>999.0</td>\n",
       "      <td>super area</td>\n",
       "      <td>2</td>\n",
       "      <td>55.0</td>\n",
       "    </tr>\n",
       "    <tr>\n",
       "      <th>2409</th>\n",
       "      <td>Kondapur</td>\n",
       "      <td>1623.0</td>\n",
       "      <td>super area</td>\n",
       "      <td>3</td>\n",
       "      <td>135.0</td>\n",
       "    </tr>\n",
       "    <tr>\n",
       "      <th>2412</th>\n",
       "      <td>Bandari Layout</td>\n",
       "      <td>1100.0</td>\n",
       "      <td>carpet area</td>\n",
       "      <td>2</td>\n",
       "      <td>49.0</td>\n",
       "    </tr>\n",
       "    <tr>\n",
       "      <th>2414</th>\n",
       "      <td>Tatianaram</td>\n",
       "      <td>1395.0</td>\n",
       "      <td>super area</td>\n",
       "      <td>2</td>\n",
       "      <td>80.0</td>\n",
       "    </tr>\n",
       "  </tbody>\n",
       "</table>\n",
       "<p>2119 rows × 5 columns</p>\n",
       "</div>"
      ],
      "text/plain": [
       "                area  areasize     areatype Bedrooms  price\n",
       "0          Mallampet    1064.0  carpet area        2   50.5\n",
       "1     Pragathi Nagar    1155.0  carpet area        2   70.0\n",
       "3       Bandam Kommu    1000.0  carpet area        2   40.0\n",
       "4           Narsingi    1800.0   super area        3  120.0\n",
       "5            Chintal    1150.0  carpet area        2   40.0\n",
       "...              ...       ...          ...      ...    ...\n",
       "2407     Begum Bazar      80.0   super area        5    9.9\n",
       "2408      Dammaiguda     999.0   super area        2   55.0\n",
       "2409        Kondapur    1623.0   super area        3  135.0\n",
       "2412  Bandari Layout    1100.0  carpet area        2   49.0\n",
       "2414      Tatianaram    1395.0   super area        2   80.0\n",
       "\n",
       "[2119 rows x 5 columns]"
      ]
     },
     "execution_count": 36,
     "metadata": {},
     "output_type": "execute_result"
    }
   ],
   "source": [
    "df.dropna(subset = ['area'], inplace = False)"
   ]
  },
  {
   "cell_type": "code",
   "execution_count": 37,
   "id": "16ed711d",
   "metadata": {},
   "outputs": [
    {
     "data": {
      "text/html": [
       "<div>\n",
       "<style scoped>\n",
       "    .dataframe tbody tr th:only-of-type {\n",
       "        vertical-align: middle;\n",
       "    }\n",
       "\n",
       "    .dataframe tbody tr th {\n",
       "        vertical-align: top;\n",
       "    }\n",
       "\n",
       "    .dataframe thead th {\n",
       "        text-align: right;\n",
       "    }\n",
       "</style>\n",
       "<table border=\"1\" class=\"dataframe\">\n",
       "  <thead>\n",
       "    <tr style=\"text-align: right;\">\n",
       "      <th></th>\n",
       "      <th>area</th>\n",
       "      <th>areasize</th>\n",
       "      <th>areatype</th>\n",
       "      <th>Bedrooms</th>\n",
       "      <th>price</th>\n",
       "    </tr>\n",
       "  </thead>\n",
       "  <tbody>\n",
       "    <tr>\n",
       "      <th>0</th>\n",
       "      <td>Mallampet</td>\n",
       "      <td>1064.0</td>\n",
       "      <td>carpet area</td>\n",
       "      <td>2</td>\n",
       "      <td>50.5</td>\n",
       "    </tr>\n",
       "    <tr>\n",
       "      <th>1</th>\n",
       "      <td>Pragathi Nagar</td>\n",
       "      <td>1155.0</td>\n",
       "      <td>carpet area</td>\n",
       "      <td>2</td>\n",
       "      <td>70.0</td>\n",
       "    </tr>\n",
       "    <tr>\n",
       "      <th>3</th>\n",
       "      <td>Bandam Kommu</td>\n",
       "      <td>1000.0</td>\n",
       "      <td>carpet area</td>\n",
       "      <td>2</td>\n",
       "      <td>40.0</td>\n",
       "    </tr>\n",
       "    <tr>\n",
       "      <th>4</th>\n",
       "      <td>Narsingi</td>\n",
       "      <td>1800.0</td>\n",
       "      <td>super area</td>\n",
       "      <td>3</td>\n",
       "      <td>120.0</td>\n",
       "    </tr>\n",
       "    <tr>\n",
       "      <th>5</th>\n",
       "      <td>Chintal</td>\n",
       "      <td>1150.0</td>\n",
       "      <td>carpet area</td>\n",
       "      <td>2</td>\n",
       "      <td>40.0</td>\n",
       "    </tr>\n",
       "    <tr>\n",
       "      <th>...</th>\n",
       "      <td>...</td>\n",
       "      <td>...</td>\n",
       "      <td>...</td>\n",
       "      <td>...</td>\n",
       "      <td>...</td>\n",
       "    </tr>\n",
       "    <tr>\n",
       "      <th>2407</th>\n",
       "      <td>Begum Bazar</td>\n",
       "      <td>80.0</td>\n",
       "      <td>super area</td>\n",
       "      <td>5</td>\n",
       "      <td>9.9</td>\n",
       "    </tr>\n",
       "    <tr>\n",
       "      <th>2408</th>\n",
       "      <td>Dammaiguda</td>\n",
       "      <td>999.0</td>\n",
       "      <td>super area</td>\n",
       "      <td>2</td>\n",
       "      <td>55.0</td>\n",
       "    </tr>\n",
       "    <tr>\n",
       "      <th>2409</th>\n",
       "      <td>Kondapur</td>\n",
       "      <td>1623.0</td>\n",
       "      <td>super area</td>\n",
       "      <td>3</td>\n",
       "      <td>135.0</td>\n",
       "    </tr>\n",
       "    <tr>\n",
       "      <th>2412</th>\n",
       "      <td>Bandari Layout</td>\n",
       "      <td>1100.0</td>\n",
       "      <td>carpet area</td>\n",
       "      <td>2</td>\n",
       "      <td>49.0</td>\n",
       "    </tr>\n",
       "    <tr>\n",
       "      <th>2414</th>\n",
       "      <td>Tatianaram</td>\n",
       "      <td>1395.0</td>\n",
       "      <td>super area</td>\n",
       "      <td>2</td>\n",
       "      <td>80.0</td>\n",
       "    </tr>\n",
       "  </tbody>\n",
       "</table>\n",
       "<p>2119 rows × 5 columns</p>\n",
       "</div>"
      ],
      "text/plain": [
       "                area  areasize     areatype Bedrooms  price\n",
       "0          Mallampet    1064.0  carpet area        2   50.5\n",
       "1     Pragathi Nagar    1155.0  carpet area        2   70.0\n",
       "3       Bandam Kommu    1000.0  carpet area        2   40.0\n",
       "4           Narsingi    1800.0   super area        3  120.0\n",
       "5            Chintal    1150.0  carpet area        2   40.0\n",
       "...              ...       ...          ...      ...    ...\n",
       "2407     Begum Bazar      80.0   super area        5    9.9\n",
       "2408      Dammaiguda     999.0   super area        2   55.0\n",
       "2409        Kondapur    1623.0   super area        3  135.0\n",
       "2412  Bandari Layout    1100.0  carpet area        2   49.0\n",
       "2414      Tatianaram    1395.0   super area        2   80.0\n",
       "\n",
       "[2119 rows x 5 columns]"
      ]
     },
     "execution_count": 37,
     "metadata": {},
     "output_type": "execute_result"
    }
   ],
   "source": [
    "df.dropna(subset = ['areasize'], inplace = False)"
   ]
  },
  {
   "cell_type": "code",
   "execution_count": 38,
   "id": "cd824e6e",
   "metadata": {},
   "outputs": [
    {
     "data": {
      "text/plain": [
       "area         object\n",
       "areasize    float64\n",
       "areatype     object\n",
       "Bedrooms     object\n",
       "price       float64\n",
       "dtype: object"
      ]
     },
     "execution_count": 38,
     "metadata": {},
     "output_type": "execute_result"
    }
   ],
   "source": [
    "df.dtypes"
   ]
  },
  {
   "cell_type": "code",
   "execution_count": 39,
   "id": "184a0d34",
   "metadata": {},
   "outputs": [
    {
     "name": "stderr",
     "output_type": "stream",
     "text": [
      "<ipython-input-39-58394872edff>:1: SettingWithCopyWarning: \n",
      "A value is trying to be set on a copy of a slice from a DataFrame.\n",
      "Try using .loc[row_indexer,col_indexer] = value instead\n",
      "\n",
      "See the caveats in the documentation: https://pandas.pydata.org/pandas-docs/stable/user_guide/indexing.html#returning-a-view-versus-a-copy\n",
      "  df['Bedrooms'] = df['Bedrooms'].interpolate()\n"
     ]
    }
   ],
   "source": [
    "df['Bedrooms'] = df['Bedrooms'].interpolate()"
   ]
  },
  {
   "cell_type": "code",
   "execution_count": 42,
   "id": "080f51d4",
   "metadata": {},
   "outputs": [
    {
     "name": "stderr",
     "output_type": "stream",
     "text": [
      "<ipython-input-42-262a8f6856eb>:1: SettingWithCopyWarning: \n",
      "A value is trying to be set on a copy of a slice from a DataFrame.\n",
      "Try using .loc[row_indexer,col_indexer] = value instead\n",
      "\n",
      "See the caveats in the documentation: https://pandas.pydata.org/pandas-docs/stable/user_guide/indexing.html#returning-a-view-versus-a-copy\n",
      "  df['Bedrooms'] = pd.to_numeric(df['Bedrooms'],  errors='coerce')\n"
     ]
    }
   ],
   "source": [
    "df['Bedrooms'] = pd.to_numeric(df['Bedrooms'],  errors='coerce')"
   ]
  },
  {
   "cell_type": "code",
   "execution_count": 43,
   "id": "fb4e5d57",
   "metadata": {},
   "outputs": [
    {
     "data": {
      "text/plain": [
       "array([ 2.,  3.,  4.,  1.,  5.,  6., nan,  8., 10.,  7.,  9.])"
      ]
     },
     "execution_count": 43,
     "metadata": {},
     "output_type": "execute_result"
    }
   ],
   "source": [
    "df['Bedrooms'].unique()"
   ]
  },
  {
   "cell_type": "code",
   "execution_count": 44,
   "id": "ceeb2243",
   "metadata": {},
   "outputs": [
    {
     "name": "stderr",
     "output_type": "stream",
     "text": [
      "<ipython-input-44-58394872edff>:1: SettingWithCopyWarning: \n",
      "A value is trying to be set on a copy of a slice from a DataFrame.\n",
      "Try using .loc[row_indexer,col_indexer] = value instead\n",
      "\n",
      "See the caveats in the documentation: https://pandas.pydata.org/pandas-docs/stable/user_guide/indexing.html#returning-a-view-versus-a-copy\n",
      "  df['Bedrooms'] = df['Bedrooms'].interpolate()\n"
     ]
    }
   ],
   "source": [
    "df['Bedrooms'] = df['Bedrooms'].interpolate()"
   ]
  },
  {
   "cell_type": "code",
   "execution_count": 45,
   "id": "5b6ddc27",
   "metadata": {},
   "outputs": [
    {
     "data": {
      "text/plain": [
       "0"
      ]
     },
     "execution_count": 45,
     "metadata": {},
     "output_type": "execute_result"
    }
   ],
   "source": [
    "df['Bedrooms'].isna().sum()"
   ]
  },
  {
   "cell_type": "code",
   "execution_count": 47,
   "id": "534a15f8",
   "metadata": {},
   "outputs": [
    {
     "data": {
      "text/html": [
       "<div>\n",
       "<style scoped>\n",
       "    .dataframe tbody tr th:only-of-type {\n",
       "        vertical-align: middle;\n",
       "    }\n",
       "\n",
       "    .dataframe tbody tr th {\n",
       "        vertical-align: top;\n",
       "    }\n",
       "\n",
       "    .dataframe thead th {\n",
       "        text-align: right;\n",
       "    }\n",
       "</style>\n",
       "<table border=\"1\" class=\"dataframe\">\n",
       "  <thead>\n",
       "    <tr style=\"text-align: right;\">\n",
       "      <th></th>\n",
       "      <th>areasize</th>\n",
       "      <th>Bedrooms</th>\n",
       "      <th>price</th>\n",
       "    </tr>\n",
       "  </thead>\n",
       "  <tbody>\n",
       "    <tr>\n",
       "      <th>count</th>\n",
       "      <td>2119.000000</td>\n",
       "      <td>2119.000000</td>\n",
       "      <td>2119.000000</td>\n",
       "    </tr>\n",
       "    <tr>\n",
       "      <th>mean</th>\n",
       "      <td>1254.316659</td>\n",
       "      <td>2.464606</td>\n",
       "      <td>69.298443</td>\n",
       "    </tr>\n",
       "    <tr>\n",
       "      <th>std</th>\n",
       "      <td>672.691241</td>\n",
       "      <td>0.936069</td>\n",
       "      <td>30.185432</td>\n",
       "    </tr>\n",
       "    <tr>\n",
       "      <th>min</th>\n",
       "      <td>22.000000</td>\n",
       "      <td>1.000000</td>\n",
       "      <td>2.500000</td>\n",
       "    </tr>\n",
       "    <tr>\n",
       "      <th>25%</th>\n",
       "      <td>980.000000</td>\n",
       "      <td>2.000000</td>\n",
       "      <td>45.000000</td>\n",
       "    </tr>\n",
       "    <tr>\n",
       "      <th>50%</th>\n",
       "      <td>1160.000000</td>\n",
       "      <td>2.000000</td>\n",
       "      <td>65.000000</td>\n",
       "    </tr>\n",
       "    <tr>\n",
       "      <th>75%</th>\n",
       "      <td>1434.000000</td>\n",
       "      <td>3.000000</td>\n",
       "      <td>88.000000</td>\n",
       "    </tr>\n",
       "    <tr>\n",
       "      <th>max</th>\n",
       "      <td>16200.000000</td>\n",
       "      <td>10.000000</td>\n",
       "      <td>149.000000</td>\n",
       "    </tr>\n",
       "  </tbody>\n",
       "</table>\n",
       "</div>"
      ],
      "text/plain": [
       "           areasize     Bedrooms        price\n",
       "count   2119.000000  2119.000000  2119.000000\n",
       "mean    1254.316659     2.464606    69.298443\n",
       "std      672.691241     0.936069    30.185432\n",
       "min       22.000000     1.000000     2.500000\n",
       "25%      980.000000     2.000000    45.000000\n",
       "50%     1160.000000     2.000000    65.000000\n",
       "75%     1434.000000     3.000000    88.000000\n",
       "max    16200.000000    10.000000   149.000000"
      ]
     },
     "execution_count": 47,
     "metadata": {},
     "output_type": "execute_result"
    }
   ],
   "source": [
    "df.describe()"
   ]
  },
  {
   "cell_type": "code",
   "execution_count": 48,
   "id": "93763c5a",
   "metadata": {},
   "outputs": [
    {
     "data": {
      "text/plain": [
       "areasize    1053.8\n",
       "Bedrooms       2.0\n",
       "price         39.7\n",
       "dtype: float64"
      ]
     },
     "execution_count": 48,
     "metadata": {},
     "output_type": "execute_result"
    }
   ],
   "source": [
    "g1 = df.groupby('areatype')\n",
    "carpet = g1.get_group('carpet area')\n",
    "super = g1.get_group('super area')\n",
    "carpet\n",
    "super\n",
    "carpet.price\n",
    "carpet.price.mean()\n",
    "\n",
    "\n",
    "g = df.groupby('area')\n",
    "g1 = g.get_group('Mallampet')\n",
    "g1.mean()"
   ]
  },
  {
   "cell_type": "code",
   "execution_count": null,
   "id": "dc57aea6",
   "metadata": {},
   "outputs": [],
   "source": []
  }
 ],
 "metadata": {
  "kernelspec": {
   "display_name": "Python 3",
   "language": "python",
   "name": "python3"
  },
  "language_info": {
   "codemirror_mode": {
    "name": "ipython",
    "version": 3
   },
   "file_extension": ".py",
   "mimetype": "text/x-python",
   "name": "python",
   "nbconvert_exporter": "python",
   "pygments_lexer": "ipython3",
   "version": "3.8.8"
  }
 },
 "nbformat": 4,
 "nbformat_minor": 5
}
