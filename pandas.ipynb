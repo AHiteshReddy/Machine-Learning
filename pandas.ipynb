{
 "cells": [
  {
   "cell_type": "code",
   "execution_count": null,
   "id": "1b20b360",
   "metadata": {},
   "outputs": [],
   "source": [
    "import pandas as pd\n",
    "df = pd.read_csv('mg.csv')"
   ]
  },
  {
   "cell_type": "code",
   "execution_count": null,
   "id": "2fb5dd1f",
   "metadata": {},
   "outputs": [],
   "source": [
    "# head function gives top 5 values and tail function gives last values,\n",
    "# you can send argument too for these functions i.e head(20)/tail(20) for first 20 or last 20 records respectively\n",
    "  \n",
    "df.head() \n",
    "df.tail()"
   ]
  },
  {
   "cell_type": "code",
   "execution_count": null,
   "id": "3141ef85",
   "metadata": {},
   "outputs": [],
   "source": [
    "# we also have attributes not called with brackets in the end lke we do for functions(head(), tail())\n",
    "\n",
    "df.shape\n",
    "df.columns\n",
    "df.sample\n",
    "df.dtypes"
   ]
  },
  {
   "cell_type": "code",
   "execution_count": 1,
   "id": "08942625",
   "metadata": {},
   "outputs": [],
   "source": [
    "# Other functions.\n",
    "# 1) nunique() `    --> GIve number of unique values in the column\n",
    "# 2) unique()       --> GIve list of unique values in the column\n",
    "# 3) value_counts() --> count how many times each unique value in the column\n",
    "# 4) isna()         --> will give the list of rows having null value in the respective column.(concentrate the syntax)\n",
    "# 5) isna().sum()   --> will give the sum of nan values.\n",
    "\n",
    "df['Bedrooms'].nunique()\n",
    "df['Bedrooms'].unique()\n",
    "df['Bedrooms'].value_counts()\n",
    "df[df['Bedrooms'].isna()]\n",
    "df['Bedrooms'].isna().sum()"
   ]
  },
  {
   "cell_type": "code",
   "execution_count": null,
   "id": "ba1905e6",
   "metadata": {},
   "outputs": [],
   "source": [
    "# lets take 'Price' column and convert every value in to lakhs\n",
    "\n",
    "df['price'] = df['Price'].str.split(' ').apply(lambda x: float(x[0]) * 100 if x[1] == 'Cr' else float(x[0]))\n",
    "\n",
    "# what we are doing here, for example consider first value in data frame 50.5 lac:\n",
    "# 1st part -->  df['Price'].str.split(' ') --> we are spliting 50.5 Lac : [50.5, lac]\n",
    "# Then we are applying lambda function on this [50.5, lac]. here x[0] = 50.5 and x[1] = lac\n",
    "\n",
    "# **************************************************************\n",
    "\n",
    "# consider 4th value i.e 1.20 Cr, first we are spliting it to [1.20, Cr] \n",
    "# then we are applying lambda function to multiply by 100 if x[1] = 'Cr'\n",
    "\n",
    "\n",
    "\n",
    "#  Other wise you can also do in three steps:\n",
    "# 1) df['price'] = df['Price'].str.split(' ').str[0]\n",
    "# 2) df['priceunit'] = df['Price'].str.split(' ').str[1]\n",
    "# 3) df['price'] =df.apply(lambda row : row['price'] if row['priceunit'] == 'Lac' else row['price']*100, axis=1)"
   ]
  },
  {
   "cell_type": "code",
   "execution_count": null,
   "id": "060b2889",
   "metadata": {},
   "outputs": [],
   "source": [
    "#  Now let take 'Other' and extract \n",
    "# 'super area'/'column area' in to 'areatype' column \n",
    "# 'sqft'/'sqyrd' in to 'areasize' column\n",
    "\n",
    "df['areasize'] = df['Other'].str.extract(r'\\*(\\d+)\\s+')\n",
    "df['areatype'] = df['Other'].str.extract(r'(carpet area|super area)')\n",
    "df['areaunit'] = df['Other'].str.extract(r'(sqft|sqyrd)')"
   ]
  },
  {
   "cell_type": "code",
   "execution_count": null,
   "id": "b025761d",
   "metadata": {},
   "outputs": [],
   "source": [
    "# now lets convert every value  to sqft\n",
    "# step1) convert data type of df['areasize'] -- > df1['areasize'] = pd.to_numeric(df1['areasize'])\n",
    "# step2) then apply lambda function on df1 to take each row and multiply 'areasize' by 9 if 'areaunit' is sqyrd else multiply by 1.\n",
    "\n",
    "df['areasize'] = pd.to_numeric(df['areasize'])\n",
    "df['areasize'] = df.apply(lambda row: row['areasize']* (9 if row['areaunit'] == 'sqyrd' else 1), axis=1)"
   ]
  },
  {
   "cell_type": "code",
   "execution_count": null,
   "id": "b5faa3d3",
   "metadata": {},
   "outputs": [],
   "source": [
    "# now lets split locality in to column area and take the requrired columns\n",
    "\n",
    "df['area'] = df['Locality'].str.split(',').str[0]\n",
    "df = df[['area', 'areasize', 'areatype', 'Bedrooms', 'price']]"
   ]
  },
  {
   "cell_type": "code",
   "execution_count": null,
   "id": "cde061ed",
   "metadata": {},
   "outputs": [],
   "source": [
    "#  save the file. if index = false it will not take index values in to file\n",
    "\n",
    "df.to_csv('workdata.csv', index = False)"
   ]
  },
  {
   "cell_type": "code",
   "execution_count": 2,
   "id": "64f367d3",
   "metadata": {},
   "outputs": [],
   "source": [
    "# Now lets look in to few other functions ( copy paste each funtion to check the output)\n",
    "# 1) df.loc[10:20]             --> Will give rows from 10 to 20\n",
    "# 2) df.loc[10:20, 'area']    --> will give 10 to 20 rows of area colmn\n",
    "# 3) df.loc[10:20, ['Price', 'Bedrooms']] --> will give 10 to 20 rows of area colmn\n",
    "# 4) df.loc[df['area'] == 'Mallampet']   --> will give rows having mallampet values\n",
    "# 5) df.loc[(df['Locality'] == 'Attapur') & (df['Bedrooms'] > 3),'Price']\n"
   ]
  },
  {
   "cell_type": "code",
   "execution_count": null,
   "id": "7626d1f5",
   "metadata": {},
   "outputs": [],
   "source": [
    "# lets clean the data\n",
    "\n",
    "# find and remove duplicate values\n",
    "df[df.duplicated()]\n",
    "df.duplicated().sum()\n",
    "df.drop_duplicates(inplace=True)\n",
    "\n",
    "# lets drop values, dropna will remove all null values. \n",
    "df.dropna( inplace = True)\n",
    "df.dropna(subset = ['area'], inplace = True)\n",
    "df.dropna(subset = ['areasize'], inplace = True)"
   ]
  },
  {
   "cell_type": "code",
   "execution_count": null,
   "id": "fc1700f5",
   "metadata": {},
   "outputs": [],
   "source": [
    "#  working with Bedroom column \n",
    "\n",
    "df.dtypes\n",
    "\n",
    "#  Lets also try to convert Bedrooms to int. \n",
    "df['Bedrooms'] = df['Bedrooms'].interpolate()\n",
    "df['Bedrooms'] = pd.to_numeric(df['Bedrooms'])\n",
    "\n",
    "#  It will through the error. \n",
    "\n",
    "df['Bedrooms'].unique()\n",
    "\n",
    "# When you exicute above statement you will notice that there is different kind of object. \n",
    "\n",
    "# so first we have to deal with these types of data. 'coerce' will help convert those things in to nan values. \n",
    "\n",
    "df.loc[df['Bedrooms'] == '> 10'] = 11\n",
    "df['Bedrooms'] = pd.to_numeric(df['Bedrooms'],  errors='coerce')\n",
    "\n"
   ]
  },
  {
   "cell_type": "code",
   "execution_count": null,
   "id": "d498e746",
   "metadata": {},
   "outputs": [],
   "source": [
    "# now lets see some stats \n",
    "df1.describe()"
   ]
  },
  {
   "cell_type": "code",
   "execution_count": null,
   "id": "68267207",
   "metadata": {},
   "outputs": [],
   "source": [
    "# now lets see about groupy function\n",
    "g1 = df1.groupby('areatype')\n",
    "carpet = g1.get_group('carpet area')\n",
    "super = g1.get_group('super area')\n",
    "carpet\n",
    "super\n",
    "carpet.price\n",
    "carpet.price.mean()\n",
    "\n",
    "\n",
    "g = df1.groupby('area')\n",
    "g1 = g.get_group('Mallampet')\n",
    "g1.mean()\n"
   ]
  },
  {
   "cell_type": "code",
   "execution_count": null,
   "id": "00fd0ced",
   "metadata": {},
   "outputs": [],
   "source": [
    "# mean absolute deviation or standard deviation\n",
    "\n",
    "import numpy as np\n",
    "samples = np.random.normal(loc=0, scale=10, size=1000)\n",
    "df = pd.DataFrame(samples, columns=['data'])\n",
    "import matplotlib.pyplot as plt\n",
    "plt.hist(df['data'], bins=20,  rwidth=0.8)\n",
    "plt.title('Price Distribution')\n",
    "plt.xlabel('Price')\n",
    "plt.ylabel('Frequency')\n",
    "plt.show()\n",
    "mean = df.data.mean()\n",
    "mean\n",
    "std_deviation = df.data.std()\n",
    "std_deviation\n",
    "low = mean-3*std_deviation\n",
    "high = mean+3*std_deviation\n",
    "df[(df.data <low) | (df.data > high)]\n",
    "df1 = df[(df.data>low)&(df.data<high)]"
   ]
  },
  {
   "cell_type": "code",
   "execution_count": null,
   "id": "34d098e6",
   "metadata": {},
   "outputs": [],
   "source": [
    "# two famous methods to remove outliners\n",
    "\n",
    "# IQR method or Tukey's method:\n",
    "\n",
    "\n",
    "Q1 = df.price.quantile(0.25)\n",
    "Q3 = df.price.quantile(0.75)\n",
    "Q1, Q3\n",
    "\n",
    "IQR = Q3 - Q1\n",
    "IQR\n",
    "\n",
    "low = Q1 - 1.5*IQR\n",
    "high = Q3 + 1.5*IQR\n",
    "low, high\n",
    "\n",
    "df[(df.price <low) | (df.price > high)]\n",
    "df1 = df[(df.data>low)&(df.data<high)]"
   ]
  },
  {
   "cell_type": "code",
   "execution_count": null,
   "id": "6389069f",
   "metadata": {},
   "outputs": [],
   "source": [
    "# zscore outline removal\n",
    "df['zscore'] = ( df.price - df.price.mean() ) / df.price.std()\n",
    "df[df['zscore']<-3]\n",
    "df[df['zscore']> 3]\n",
    "df1 = df[(df.zscore < 3) & (df.zscore > -3) ]"
   ]
  },
  {
   "cell_type": "code",
   "execution_count": null,
   "id": "20f15fc0",
   "metadata": {},
   "outputs": [],
   "source": []
  },
  {
   "cell_type": "code",
   "execution_count": null,
   "id": "7c5f6346",
   "metadata": {},
   "outputs": [],
   "source": [
    "# now lets see how a function is used on multiple groups, this is not necessary but just to understand how this concept works\n",
    "def price_per_sqft(group):\n",
    "    group['price_per_sqft'] = (group['price'] / group['areasize'])\n",
    "    return group\n",
    "\n",
    "carpetprice = carpet.groupby('price').apply(price_per_sqft)\n",
    "superprice = super.groupby('price').apply(price_per_sqft)\n",
    "superprice[superprice['area'] == 'Pragathi Nagar']\n",
    "carpet.apply(lambda x: x.isnull().sum())\n",
    "superprice[superprice['area'] == 'Pragathi Nagar'].max()"
   ]
  },
  {
   "cell_type": "code",
   "execution_count": null,
   "id": "4a07ac6f",
   "metadata": {},
   "outputs": [],
   "source": [
    "# Lets see how to merge dataframes\n",
    "\n",
    "maths = {'Student': ['John', 'Emily', 'Adam', 'Susan', 'Mike'],\n",
    "        'maths_Marks': [85, 92, 78, 90, 87]}\n",
    "\n",
    "maths = pd.DataFrame(maths)\n",
    "\n",
    "science = pd.DataFrame({'Student': ['John', 'Emily', 'Adam', 'Susan', 'Mike'],\n",
    "                'science_Marks': [80, 88, 82, 92, 85]})\n",
    "\n",
    "df3 = pd.merge(maths, science, on=\"Student\")\n",
    "\n",
    "# how argument, lets add laresh and taresh, it is default inner\n",
    "df3 = pd.merge(maths, science, on=\"Student\", how = 'outer' )\n",
    "df3 = pd.merge(maths, science, on=\"Student\", how = 'right' )\n",
    "df3 = pd.merge(maths, science, on=\"Student\", how = 'left' )\n",
    "\n",
    "# concatinate\n",
    "roll_num = pd.Series([2,3,4,5,6], name = 'roll number')\n",
    "df = pd.concat([maths, roll_num],axis=1)\n",
    "\n",
    "# melt function\n",
    "\n",
    "df4 = pd.melt(df3, id_vars=[\"Student\"],var_name='subject', value_name='marks')\n"
   ]
  },
  {
   "cell_type": "code",
   "execution_count": null,
   "id": "df753d2b",
   "metadata": {},
   "outputs": [],
   "source": [
    "# Lets plot few graphs\n",
    "import matplotlib.pyplot as plt\n",
    "plt.hist(df['price'], bins=20,  rwidth=0.8)\n",
    "plt.title('Price Distribution')\n",
    "plt.xlabel('Price')\n",
    "plt.ylabel('Frequency')\n",
    "plt.show()\n",
    "\n",
    "# standard diviation -/+1 standard deviation 68.3%\n",
    "# standard diviation -/+2 standard deviation 95.5%"
   ]
  }
 ],
 "metadata": {
  "kernelspec": {
   "display_name": "Python 3 (ipykernel)",
   "language": "python",
   "name": "python3"
  },
  "language_info": {
   "codemirror_mode": {
    "name": "ipython",
    "version": 3
   },
   "file_extension": ".py",
   "mimetype": "text/x-python",
   "name": "python",
   "nbconvert_exporter": "python",
   "pygments_lexer": "ipython3",
   "version": "3.10.8"
  }
 },
 "nbformat": 4,
 "nbformat_minor": 5
}
